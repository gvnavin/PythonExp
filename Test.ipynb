{
 "cells": [
  {
   "cell_type": "code",
   "execution_count": 8,
   "id": "0ce8b4e5",
   "metadata": {},
   "outputs": [
    {
     "name": "stdout",
     "output_type": "stream",
     "text": [
      "Requirement already satisfied: PyPDF2 in /home/gvnavin/jupy/jup_notebook/lib/python3.10/site-packages (2.11.1)\r\n"
     ]
    }
   ],
   "source": [
    "!pip install PyPDF2"
   ]
  },
  {
   "cell_type": "code",
   "execution_count": 5,
   "id": "fe1ae898",
   "metadata": {},
   "outputs": [
    {
     "name": "stdout",
     "output_type": "stream",
     "text": [
      "2\n",
      "\n",
      "    Information about TestResume.pdf: \n",
      "    \n",
      "    Author: None\n",
      "    Creator: None\n",
      "    Producer: Skia/PDF m98 Google Docs Renderer\n",
      "    Subject: None\n",
      "    \n",
      "    Number of pages: 2\n",
      "    \n"
     ]
    }
   ],
   "source": [
    "from PyPDF2 import PdfReader\n",
    "\n",
    "pdf_path = \"TestResume.pdf\"\n",
    "\n",
    "reader = PdfReader(pdf_path)\n",
    "\n",
    "number_of_pages = len(reader.pages)\n",
    "page = reader.pages[0]\n",
    "text = page.extract_text()\n",
    "information = reader.getDocumentInfo()\n",
    "\n",
    "print(number_of_pages)\n",
    "# print(page)\n",
    "# print(text)\n",
    "\n",
    "txt = f\"\"\"\n",
    "    Information about {pdf_path}: \n",
    "    \n",
    "    Author: {information.author}\n",
    "    Creator: {information.creator}\n",
    "    Producer: {information.producer}\n",
    "    Subject: {information.subject}\n",
    "    \n",
    "    Number of pages: {number_of_pages}\n",
    "    \"\"\"\n",
    "\n",
    "print(txt)\n"
   ]
  },
  {
   "cell_type": "code",
   "execution_count": null,
   "id": "4bab76b1",
   "metadata": {},
   "outputs": [],
   "source": []
  }
 ],
 "metadata": {
  "kernelspec": {
   "display_name": "Python 3 (ipykernel)",
   "language": "python",
   "name": "python3"
  },
  "language_info": {
   "codemirror_mode": {
    "name": "ipython",
    "version": 3
   },
   "file_extension": ".py",
   "mimetype": "text/x-python",
   "name": "python",
   "nbconvert_exporter": "python",
   "pygments_lexer": "ipython3",
   "version": "3.10.6"
  },
  "widgets": {
   "application/vnd.jupyter.widget-state+json": {
    "state": {},
    "version_major": 2,
    "version_minor": 0
   }
  }
 },
 "nbformat": 4,
 "nbformat_minor": 5
}
