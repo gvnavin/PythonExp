{
 "cells": [
  {
   "cell_type": "code",
   "execution_count": 17,
   "id": "4bab76b1",
   "metadata": {},
   "outputs": [],
   "source": [
    "import numpy as np\n",
    "import pandas as pd \n",
    "\n",
    "from sklearn.feature_extraction.text import CountVectorizer,TfidfVectorizer\n",
    "from sklearn import metrics\n",
    "\n",
    "import string\n",
    "import spacy\n",
    "np.random.seed(42)"
   ]
  },
  {
   "cell_type": "code",
   "execution_count": 11,
   "id": "fe1ae898",
   "metadata": {},
   "outputs": [
    {
     "name": "stdout",
     "output_type": "stream",
     "text": [
      "2\n",
      "\n",
      "    Information about TestResume.pdf: \n",
      "    \n",
      "    Author: None\n",
      "    Creator: None\n",
      "    Producer: Skia/PDF m98 Google Docs Renderer\n",
      "    Subject: None\n",
      "    \n",
      "    Number of pages: 2\n",
      "    \n"
     ]
    }
   ],
   "source": [
    "from PyPDF2 import PdfReader\n",
    "\n",
    "pdf_path = \"TestResume.pdf\"\n",
    "\n",
    "reader = PdfReader(pdf_path)\n",
    "\n",
    "number_of_pages = len(reader.pages)\n",
    "page = reader.pages[0]\n",
    "text = page.extract_text()\n",
    "information = reader.getDocumentInfo()\n",
    "\n",
    "print(number_of_pages)\n",
    "# print(page)\n",
    "# print(text)\n",
    "\n",
    "txt = f\"\"\"\n",
    "    Information about {pdf_path}: \n",
    "    \n",
    "    Author: {information.author}\n",
    "    Creator: {information.creator}\n",
    "    Producer: {information.producer}\n",
    "    Subject: {information.subject}\n",
    "    \n",
    "    Number of pages: {number_of_pages}\n",
    "    \"\"\"\n",
    "\n",
    "print(txt)\n",
    "# print(f\"\"\"Title: {information.title}\"\"\")\n"
   ]
  },
  {
   "cell_type": "code",
   "execution_count": 28,
   "id": "a0f95089",
   "metadata": {},
   "outputs": [
    {
     "name": "stdout",
     "output_type": "stream",
     "text": [
      "{'sometime', 'there', 'amongst', 'go', 'on', '’re', 'when', 'however', 'he', 'thus', 'yourself', 'who', 'eight', '’m', 'upon', 'very', 'three', \"'d\", 'many', 'thereupon', 'only', 'mostly', 'as', 'becomes', 'by', 'him', 'such', '‘ve', 'so', 'until', 'must', 'quite', 'twelve', 'not', 'eleven', 'see', 'her', 'wherever', 'nevertheless', 'get', 'where', 'ourselves', 'other', 'five', 'had', 'via', 'hereupon', 'otherwise', \"'ll\", 'one', 'everyone', 'hence', 'yours', '‘d', 'at', 'myself', 'whence', 'already', 'anyone', 'without', 'should', 'sixty', 'will', 'except', 'themselves', 'really', '’d', \"'re\", 'herein', 'less', 'from', 'may', 'bottom', 'me', 'against', 'within', 'those', 'meanwhile', 'through', 'few', 'whoever', 'whereupon', 'same', 'around', 'the', 'does', 'side', 'serious', 'thereafter', 'between', 'take', 're', 'your', 'become', 'full', 'made', 'somehow', 'indeed', '’s', 'during', 'show', \"n't\", 'that', 'for', 'about', 'nor', 'using', 'in', 'alone', 'yourselves', 'anywhere', 'i', 'anyway', 'seemed', '’ll', 'formerly', 'beside', 'somewhere', 'everything', 'did', 'over', 'beforehand', 'above', 'hundred', 'former', 'latterly', 'how', '‘m', 'another', 'move', 'just', 'moreover', 'then', 'an', 'together', 'often', 'to', 'put', 'keep', 'this', 'too', 'us', 'any', 'be', 'forty', 'here', 'she', 'it', 'is', 'among', 'n‘t', 'below', 'top', 'most', 'throughout', 'noone', 'perhaps', 'everywhere', 'ours', 'though', 'if', 'several', 'also', '‘re', 'after', 'name', 'nobody', 'amount', 'nothing', 'last', 'under', \"'ve\", 'or', 'been', 'hereby', 'sometimes', 'more', 'them', 'mine', \"'s\", 'might', 'doing', 'whom', '‘ll', 'call', 'something', 'latter', 'no', 'whatever', 'whereas', 'namely', 'both', 'used', 'six', 'further', 'were', 'do', 'what', 'cannot', 'none', 'itself', 'their', 'thence', 'third', 'now', 'others', 'front', 'fifteen', 'well', 'ca', 'because', 'four', 'whereafter', 'was', 'regarding', 'either', 'thereby', 'whenever', 'part', 'two', 'a', 'although', 'up', 'besides', '‘s', 'fifty', 'therefore', 'else', 'whither', 'became', 'being', 'its', 'across', 'first', 'ever', 'each', 'himself', 'back', 'unless', 'are', 'due', 'own', 'always', 'please', 'ten', 'behind', 'than', 'various', 'wherein', 'almost', 'my', 'whose', '’ve', 'least', 'which', 'therein', 'give', 'make', 'into', 'seeming', 'seems', 'say', 'our', 'have', 'before', 'of', 'beyond', 'some', 'why', 'nowhere', 'would', 'still', 'off', 'his', 'becoming', 'but', 'could', 'n’t', 'they', 'we', \"'m\", 'since', 'down', 'toward', 'enough', 'while', 'can', 'whether', 'with', 'onto', 'yet', 'again', 'hereafter', 'you', 'out', 'next', 'nine', 'thru', 'anyhow', 'these', 'towards', 'anything', 'hers', 'and', 'someone', 'done', 'never', 'even', 'whereby', 'afterwards', 'all', 'much', 'herself', 'am', 'once', 'rather', 'has', 'twenty', 'empty', 'whole', 'seem', 'per', 'every', 'elsewhere', 'neither', 'along'}\n"
     ]
    }
   ],
   "source": [
    "nlp = spacy.load(\"en_core_web_sm\")\n",
    "stop_words = nlp.Defaults.stop_words\n",
    "print(stop_words)"
   ]
  },
  {
   "cell_type": "code",
   "execution_count": 19,
   "id": "2330b432",
   "metadata": {},
   "outputs": [
    {
     "name": "stdout",
     "output_type": "stream",
     "text": [
      "!\"#$%&'()*+,-./:;<=>?@[\\]^_`{|}~\n"
     ]
    }
   ],
   "source": [
    "punctuations = string.punctuation\n",
    "print(punctuations)"
   ]
  },
  {
   "cell_type": "code",
   "execution_count": 47,
   "id": "50b94e13",
   "metadata": {},
   "outputs": [],
   "source": [
    "# Creating our tokenizer function\n",
    "def spacy_tokenizer(sentence):\n",
    "    # Creating our token object, which is used to create documents with linguistic annotations.\n",
    "    doc = nlp(sentence)\n",
    "\n",
    "    tok_exp = nlp.tokenizer.explain(sentence)\n",
    "\n",
    "#     for t in tok_exp:\n",
    "#         print(t[1], \"\\t\", t[0])\n",
    "\n",
    "#     print(doc.has_annotation(\"SENT_START\"))\n",
    "    \n",
    "    for sent in doc.sents:\n",
    "        print(sent.text)\n",
    "#         print('----------------line end----------------')\n",
    "        \n",
    "    # print(doc)\n",
    "    # print(type(doc))\n",
    "\n",
    "    # Lemmatizing each token and converting each token into lowercase\n",
    "    mytokens = [ word.lemma_.lower().strip() for word in doc ]\n",
    "\n",
    "    # print(mytokens)\n",
    "\n",
    "    # Removing stop words\n",
    "    mytokens = [ word for word in mytokens if word not in stop_words and word not in punctuations ]\n",
    "\n",
    "    # return preprocessed list of tokens\n",
    "    return mytokens"
   ]
  },
  {
   "cell_type": "code",
   "execution_count": null,
   "id": "3e65da51",
   "metadata": {},
   "outputs": [],
   "source": []
  },
  {
   "cell_type": "code",
   "execution_count": 30,
   "id": "afcd8a1f",
   "metadata": {},
   "outputs": [],
   "source": [
    "count_vector = CountVectorizer(tokenizer = spacy_tokenizer)"
   ]
  },
  {
   "cell_type": "code",
   "execution_count": null,
   "id": "e6e1cc65",
   "metadata": {},
   "outputs": [],
   "source": []
  }
 ],
 "metadata": {
  "kernelspec": {
   "display_name": "Python 3 (ipykernel)",
   "language": "python",
   "name": "python3"
  },
  "language_info": {
   "codemirror_mode": {
    "name": "ipython",
    "version": 3
   },
   "file_extension": ".py",
   "mimetype": "text/x-python",
   "name": "python",
   "nbconvert_exporter": "python",
   "pygments_lexer": "ipython3",
   "version": "3.10.6"
  },
  "widgets": {
   "application/vnd.jupyter.widget-state+json": {
    "state": {},
    "version_major": 2,
    "version_minor": 0
   }
  }
 },
 "nbformat": 4,
 "nbformat_minor": 5
}
