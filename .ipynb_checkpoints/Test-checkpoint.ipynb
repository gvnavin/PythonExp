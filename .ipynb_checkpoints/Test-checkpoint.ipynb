{
 "cells": [
  {
   "cell_type": "code",
   "execution_count": 17,
   "id": "4bab76b1",
   "metadata": {},
   "outputs": [],
   "source": [
    "import numpy as np\n",
    "import pandas as pd \n",
    "\n",
    "from sklearn.feature_extraction.text import CountVectorizer,TfidfVectorizer\n",
    "from sklearn import metrics\n",
    "\n",
    "import string\n",
    "import spacy\n",
    "np.random.seed(42)"
   ]
  },
  {
   "cell_type": "code",
   "execution_count": 11,
   "id": "fe1ae898",
   "metadata": {},
   "outputs": [
    {
     "name": "stdout",
     "output_type": "stream",
     "text": [
      "2\n",
      "\n",
      "    Information about TestResume.pdf: \n",
      "    \n",
      "    Author: None\n",
      "    Creator: None\n",
      "    Producer: Skia/PDF m98 Google Docs Renderer\n",
      "    Subject: None\n",
      "    \n",
      "    Number of pages: 2\n",
      "    \n"
     ]
    }
   ],
   "source": [
    "from PyPDF2 import PdfReader\n",
    "\n",
    "pdf_path = \"TestResume.pdf\"\n",
    "\n",
    "reader = PdfReader(pdf_path)\n",
    "\n",
    "number_of_pages = len(reader.pages)\n",
    "page = reader.pages[0]\n",
    "text = page.extract_text()\n",
    "information = reader.getDocumentInfo()\n",
    "\n",
    "print(number_of_pages)\n",
    "# print(page)\n",
    "# print(text)\n",
    "\n",
    "txt = f\"\"\"\n",
    "    Information about {pdf_path}: \n",
    "    \n",
    "    Author: {information.author}\n",
    "    Creator: {information.creator}\n",
    "    Producer: {information.producer}\n",
    "    Subject: {information.subject}\n",
    "    \n",
    "    Number of pages: {number_of_pages}\n",
    "    \"\"\"\n",
    "\n",
    "print(txt)\n",
    "# print(f\"\"\"Title: {information.title}\"\"\")\n"
   ]
  },
  {
   "cell_type": "code",
   "execution_count": 28,
   "id": "5ca4039c",
   "metadata": {},
   "outputs": [
    {
     "name": "stdout",
     "output_type": "stream",
     "text": [
      "{'sometime', 'there', 'amongst', 'go', 'on', '’re', 'when', 'however', 'he', 'thus', 'yourself', 'who', 'eight', '’m', 'upon', 'very', 'three', \"'d\", 'many', 'thereupon', 'only', 'mostly', 'as', 'becomes', 'by', 'him', 'such', '‘ve', 'so', 'until', 'must', 'quite', 'twelve', 'not', 'eleven', 'see', 'her', 'wherever', 'nevertheless', 'get', 'where', 'ourselves', 'other', 'five', 'had', 'via', 'hereupon', 'otherwise', \"'ll\", 'one', 'everyone', 'hence', 'yours', '‘d', 'at', 'myself', 'whence', 'already', 'anyone', 'without', 'should', 'sixty', 'will', 'except', 'themselves', 'really', '’d', \"'re\", 'herein', 'less', 'from', 'may', 'bottom', 'me', 'against', 'within', 'those', 'meanwhile', 'through', 'few', 'whoever', 'whereupon', 'same', 'around', 'the', 'does', 'side', 'serious', 'thereafter', 'between', 'take', 're', 'your', 'become', 'full', 'made', 'somehow', 'indeed', '’s', 'during', 'show', \"n't\", 'that', 'for', 'about', 'nor', 'using', 'in', 'alone', 'yourselves', 'anywhere', 'i', 'anyway', 'seemed', '’ll', 'formerly', 'beside', 'somewhere', 'everything', 'did', 'over', 'beforehand', 'above', 'hundred', 'former', 'latterly', 'how', '‘m', 'another', 'move', 'just', 'moreover', 'then', 'an', 'together', 'often', 'to', 'put', 'keep', 'this', 'too', 'us', 'any', 'be', 'forty', 'here', 'she', 'it', 'is', 'among', 'n‘t', 'below', 'top', 'most', 'throughout', 'noone', 'perhaps', 'everywhere', 'ours', 'though', 'if', 'several', 'also', '‘re', 'after', 'name', 'nobody', 'amount', 'nothing', 'last', 'under', \"'ve\", 'or', 'been', 'hereby', 'sometimes', 'more', 'them', 'mine', \"'s\", 'might', 'doing', 'whom', '‘ll', 'call', 'something', 'latter', 'no', 'whatever', 'whereas', 'namely', 'both', 'used', 'six', 'further', 'were', 'do', 'what', 'cannot', 'none', 'itself', 'their', 'thence', 'third', 'now', 'others', 'front', 'fifteen', 'well', 'ca', 'because', 'four', 'whereafter', 'was', 'regarding', 'either', 'thereby', 'whenever', 'part', 'two', 'a', 'although', 'up', 'besides', '‘s', 'fifty', 'therefore', 'else', 'whither', 'became', 'being', 'its', 'across', 'first', 'ever', 'each', 'himself', 'back', 'unless', 'are', 'due', 'own', 'always', 'please', 'ten', 'behind', 'than', 'various', 'wherein', 'almost', 'my', 'whose', '’ve', 'least', 'which', 'therein', 'give', 'make', 'into', 'seeming', 'seems', 'say', 'our', 'have', 'before', 'of', 'beyond', 'some', 'why', 'nowhere', 'would', 'still', 'off', 'his', 'becoming', 'but', 'could', 'n’t', 'they', 'we', \"'m\", 'since', 'down', 'toward', 'enough', 'while', 'can', 'whether', 'with', 'onto', 'yet', 'again', 'hereafter', 'you', 'out', 'next', 'nine', 'thru', 'anyhow', 'these', 'towards', 'anything', 'hers', 'and', 'someone', 'done', 'never', 'even', 'whereby', 'afterwards', 'all', 'much', 'herself', 'am', 'once', 'rather', 'has', 'twenty', 'empty', 'whole', 'seem', 'per', 'every', 'elsewhere', 'neither', 'along'}\n"
     ]
    }
   ],
   "source": [
    "nlp = spacy.load(\"en_core_web_sm\")\n",
    "stop_words = nlp.Defaults.stop_words\n",
    "print(stop_words)"
   ]
  },
  {
   "cell_type": "code",
   "execution_count": 19,
   "id": "e84980c3",
   "metadata": {},
   "outputs": [
    {
     "name": "stdout",
     "output_type": "stream",
     "text": [
      "!\"#$%&'()*+,-./:;<=>?@[\\]^_`{|}~\n"
     ]
    }
   ],
   "source": [
    "punctuations = string.punctuation\n",
    "print(punctuations)"
   ]
  },
  {
   "cell_type": "code",
   "execution_count": 44,
   "id": "037fb40d",
   "metadata": {},
   "outputs": [],
   "source": [
    "# Creating our tokenizer function\n",
    "def spacy_tokenizer(sentence):\n",
    "    # Creating our token object, which is used to create documents with linguistic annotations.\n",
    "    doc = nlp(sentence)\n",
    "\n",
    "    tok_exp = nlp.tokenizer.explain(sentence)\n",
    "\n",
    "#     for t in tok_exp:\n",
    "#         print(t[1], \"\\t\", t[0])\n",
    "\n",
    "    print(doc.has_annotation(\"SENT_START\"))\n",
    "    \n",
    "    for sent in doc.sents:\n",
    "        print(sent.text)\n",
    "        print('----------------line end----------------')\n",
    "        \n",
    "    # print(doc)\n",
    "    # print(type(doc))\n",
    "\n",
    "    # Lemmatizing each token and converting each token into lowercase\n",
    "    mytokens = [ word.lemma_.lower().strip() for word in doc ]\n",
    "\n",
    "    # print(mytokens)\n",
    "\n",
    "    # Removing stop words\n",
    "    mytokens = [ word for word in mytokens if word not in stop_words and word not in punctuations ]\n",
    "\n",
    "    # return preprocessed list of tokens\n",
    "    return mytokens"
   ]
  },
  {
   "cell_type": "code",
   "execution_count": 46,
   "id": "e39ec0b1",
   "metadata": {},
   "outputs": [
    {
     "name": "stdout",
     "output_type": "stream",
     "text": [
      "True\n",
      "Abhishek Gar gEnergetic product manager with 6+ years of experience in building products across different industries using lean, customer-centric and data-driven approach\n",
      "Mobile-+91 88280 10241Email-p13abhishekg arg@iimidr .ac.inLinkedin-linkedin.c om/in/ abhishekg arg88\n",
      "WORK EXPERIENCE\n",
      "Principal Product Manager, OperationsHomelane, BangaloreOct ‘21 -Present\n",
      "-Led completeintegrationoforder management systemwith newly introducedSAPto enable real-time productionstatus tracking,material trackingduring transit, damage reportingthrough scanning system & reduce manual efforts for finance in revenuerecognition, payment reconciliation & partner payouts-Conceptualized & built amobile app(Android)for200+field executives to report site measurements,report & track snags, reportsite readiness to plan production & dispatch material & schedule installation quality check (PlayStorelink)\n",
      "Senior Product Manager, Partner EcosystemHomelane, BangaloreSep ‘20 - Sep ‘21\n",
      "-Launched ascorecard for designers(gamification)to help them track their performance on important design milestones (numberof meetings taken, meeting conversion rate, upsell, design NPS, design errors) & incentivize based on targets achieved on quarterlybasis.\n",
      "----------------line end----------------\n",
      "Average meetings per designer per quarter improved from14 to 20, M:O increased by4%points, DesignNPS improved from80% to 90%, Upsell improved by1%-Launched adesigner management platformto improvepredictability of1000+freelance designer’s availabilityand manage theirpayouts, meetings & trainings-Conceptualized & implemented adesigner recommendationsystemto recommend top 10 designers for a customer.\n",
      "----------------line end----------------\n",
      "Led to upto40%improvement in conversion rate (blog)-Setup acustomer escalation deskby integrating withFreshdeskforcustomers atcentral levelto reportany issues faced duringdesign or installation phase\n",
      "Product Manager 2 (B2B SaaS)Bizongo, BangaloreFeb ‘19- Aug ‘20Worked onArtwork Flo wwhich is a pack aging artw orkmanag emen t pla tform f or br and manag ers & pack aging manag ers to manag e & g et\n",
      "----------------line end----------------\n",
      "appr ovals onpack aging artw orks/labels\n",
      "-Completely ownedinitial customer developmentforArtwork Flow,brought in first 5 clients(Teabox,Mother Dairy, Capital Foods,Havmor, Fit & Glow USA)-Closely worked with the initial users to makeapprovalworkflowsmore powerful (workflow templates, industry-wisechecklistse.g.- FSSAI packaging & labeling guidelines)-Conceptualized & builtreporting dashboardfor usersto track important metrics (\n",
      "----------------line end----------------\n",
      "First Time Right, Number of revisions, Averageapproval time) to improve productivity & visibility.\n",
      "----------------line end----------------\n",
      "Decreased artwork approval time for clients from average5 days to 2 days-Launchedasset management libraryto manage SKU-wiseartworks with version history & source files along with option to directlyrender Adobe Illustrator (.ai) file using an Adobe’s converter-Worked on the initialpricingof Artwork Flow basedon the potential cost savings it brought to the clients (blog)-Revamped signupflow (A/B testing) &onboarding experiencewhich led to increase in signup conversionby20%&drop in demoto user activation time by50%-Integrated artwork workflow management in Bizongo’s procurement business (order-to-fulfillment flow) to manage100%ofartwork approvals through the platform\n",
      "Product Manager (B2C)Reliance Jio Infocomm, MumbaiJun ‘15- Jan ’19Worked onJioCloudwhich is a cloud s torage app inJio’s suit e of mobile app s offered to Jio cus tomer s\n",
      "-Launched JioCloud mobile, web & desktop app, scaled to10+ mndownloads on Android (Rating -4.3starson Playstore)-Conceptualised & builtready-to-sharesmart albumsbased on photos backed up during user’s trips & events whichincreasedengagementby 3 times-Led variousgrowth initiativesto improve acquisition,engagement & retention-LaunchedRefer & Earn programin the app whichincreasedinstallsby 10% &90 day retentionfrom 8% to 25%-Worked onApp store optimization&launched Explainervideoto drive 5%increase in playstore conversion-Drove10X new installsthrough push notification,in-app, sms, social media campaigns & offline channels-Revamped Onboarding flowof mobile app toincreaseupload conversion ratefrom 30% to 70%-Improved core featuresof JioCloud Android & iOS applike auto backup, manual upload, file display & sync-BuiltJioCloud Windows/Mac apps fromscratchwithfeatures like bulk upload, real time sync & selective download-Introduced security featuresin the app like Remotelogout, App lock, Connection history toreduce userchurnby 5%-Launched Free up device spacefeature in the app whichincreased app engagement& file downloads by 3 times\n",
      "----------------line end----------------\n"
     ]
    }
   ],
   "source": [
    "sentence = text\n",
    "tokens = spacy_tokenizer(sentence)"
   ]
  },
  {
   "cell_type": "code",
   "execution_count": 30,
   "id": "fc8bbfb1",
   "metadata": {},
   "outputs": [],
   "source": [
    "count_vector = CountVectorizer(tokenizer = spacy_tokenizer)"
   ]
  },
  {
   "cell_type": "code",
   "execution_count": null,
   "id": "c58655ac",
   "metadata": {},
   "outputs": [],
   "source": []
  }
 ],
 "metadata": {
  "kernelspec": {
   "display_name": "Python 3 (ipykernel)",
   "language": "python",
   "name": "python3"
  },
  "language_info": {
   "codemirror_mode": {
    "name": "ipython",
    "version": 3
   },
   "file_extension": ".py",
   "mimetype": "text/x-python",
   "name": "python",
   "nbconvert_exporter": "python",
   "pygments_lexer": "ipython3",
   "version": "3.10.6"
  },
  "widgets": {
   "application/vnd.jupyter.widget-state+json": {
    "state": {},
    "version_major": 2,
    "version_minor": 0
   }
  }
 },
 "nbformat": 4,
 "nbformat_minor": 5
}
